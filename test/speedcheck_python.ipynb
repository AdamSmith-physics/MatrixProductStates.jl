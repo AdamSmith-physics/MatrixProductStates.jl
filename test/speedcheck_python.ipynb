{
 "cells": [
  {
   "cell_type": "code",
   "execution_count": 1,
   "metadata": {},
   "outputs": [],
   "source": [
    "import numpy as np\n",
    "import time"
   ]
  },
  {
   "cell_type": "code",
   "execution_count": 18,
   "metadata": {},
   "outputs": [],
   "source": [
    "M1 = np.random.randn(1000, 2000)\n",
    "M2 = np.random.randn(2000, 1000)\n",
    "\n",
    "T1 = np.random.randn(100, 100, 2000)\n",
    "T2 = np.random.randn(2000, 100, 100)"
   ]
  },
  {
   "cell_type": "code",
   "execution_count": 19,
   "metadata": {},
   "outputs": [
    {
     "name": "stdout",
     "output_type": "stream",
     "text": [
      "17554.044723510742us\n",
      "1939393.9971923828us\n"
     ]
    }
   ],
   "source": [
    "\n",
    "t1 = time.time()\n",
    "M1 @ M2  # 17ms on iMac\n",
    "t2 = time.time()\n",
    "print(f\"{(t2 - t1)*10**6}us\")  \n",
    "\n",
    "t3 = time.time()\n",
    "T3 = np.tensordot(T1, T2, axes=([2], [0]))  # 1.94s on iMac\n",
    "t4 = time.time()\n",
    "print(f\"{(t4 - t3)*10**6}us\")"
   ]
  },
  {
   "cell_type": "code",
   "execution_count": 20,
   "metadata": {},
   "outputs": [
    {
     "name": "stdout",
     "output_type": "stream",
     "text": [
      "45000.314712524414us\n"
     ]
    }
   ],
   "source": [
    "t1 = time.time()\n",
    "T3 = np.transpose(T1, (0, 2, 1))  # 45ms on iMac\n",
    "t2 = time.time()\n",
    "print(f\"{(t2 - t1)*10**6}us\") "
   ]
  },
  {
   "cell_type": "code",
   "execution_count": 23,
   "metadata": {},
   "outputs": [
    {
     "name": "stdout",
     "output_type": "stream",
     "text": [
      "15324817.895889282us\n"
     ]
    }
   ],
   "source": [
    "A1 = np.random.randn(100, 2, 100)\n",
    "A2 = np.random.randn(100, 2, 100)\n",
    "\n",
    "t1 = time.time()\n",
    "C = np.tensordot(A1, A2, axes=([1], [1]))  # 439ms on iMac\n",
    "t2 = time.time()\n",
    "print(f\"{(t2 - t1)*10**6}us\")\n"
   ]
  },
  {
   "cell_type": "code",
   "execution_count": null,
   "metadata": {},
   "outputs": [],
   "source": []
  }
 ],
 "metadata": {
  "kernelspec": {
   "display_name": "conda3_9_7",
   "language": "python",
   "name": "python3"
  },
  "language_info": {
   "codemirror_mode": {
    "name": "ipython",
    "version": 3
   },
   "file_extension": ".py",
   "mimetype": "text/x-python",
   "name": "python",
   "nbconvert_exporter": "python",
   "pygments_lexer": "ipython3",
   "version": "3.9.18"
  }
 },
 "nbformat": 4,
 "nbformat_minor": 2
}
